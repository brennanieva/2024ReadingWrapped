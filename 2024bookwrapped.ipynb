import pandas as pd

# Load the CSV file into a DataFrame
df = pd.read_csv('/Users/brennanieva/Documents/2024Wrapped/2024BookList.csv')

# Display the first few rows of the DataFrame
df.head()