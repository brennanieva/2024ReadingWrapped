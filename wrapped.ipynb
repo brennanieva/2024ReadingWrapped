{
 "cells": [
  {
   "cell_type": "code",
   "execution_count": 96,
   "metadata": {},
   "outputs": [
    {
     "name": "stdout",
     "output_type": "stream",
     "text": [
      "                                             Title                Author  \\\n",
      "0                          Fleabag: The Scriptures  Phoebe Waller-Bridge   \n",
      "1    Succession - Season Two: The Complete Scripts       Jesse Armstrong   \n",
      "2   Succession - Season Four: The Complete Scripts       Jesse Armstrong   \n",
      "3    Succession – Season One: The Complete Scripts       Jesse Armstrong   \n",
      "4  Succession - Season Three: The Complete Scripts       Jesse Armstrong   \n",
      "\n",
      "          Download_Timestamp      Format           ISBN  \\\n",
      "0  2023-09-07T16:02:31-08:00   mobi, pdf  9780593158272   \n",
      "1  2023-09-07T16:28:34-08:00  epub, mobi  9780571379750   \n",
      "2  2023-09-07T16:34:17-08:00   mobi, pdf  9780571384037   \n",
      "3  2023-09-07T16:34:45-08:00  epub, mobi  9780571384006   \n",
      "4  2023-09-07T16:34:54-08:00   mobi, pdf  9780571384020   \n",
      "\n",
      "                                         Identifiers Languages  \\\n",
      "0  asin:B07VYS3CPP,barnesnoble:1132922667,google:...       eng   \n",
      "1  barnesnoble:1143351927,isbn:9780571379750,goog...       eng   \n",
      "2  google:uNy8EAAAQBAJ,mobi-asin:B0C44SBX23,isbn:...       eng   \n",
      "3  google:dj6rEAAAQBAJ,isbn:9780571384006,amazon:...       eng   \n",
      "4  barnesnoble:1143351930,mobi-asin:B0C26Y815C,am...       eng   \n",
      "\n",
      "            Publication_Date                      Publisher      Series  ...  \\\n",
      "0  2019-11-26T00:00:00-08:00  Random House Publishing Group         NaN  ...   \n",
      "1  2023-05-17T17:24:03-08:00                  Faber & Faber  Succession  ...   \n",
      "2  2023-07-17T23:00:00-08:00                  Faber & Faber  Succession  ...   \n",
      "3  2023-05-29T17:22:43-08:00                  Faber & Faber  Succession  ...   \n",
      "4  2023-05-29T23:00:00-08:00                  Faber & Faber  Succession  ...   \n",
      "\n",
      "                                                Tags  \\\n",
      "0  Performing Arts, Television, Genres, Comedy, D...   \n",
      "1                                                NaN   \n",
      "2                       Performing Arts, Screenplays   \n",
      "3                       Performing Arts, Screenplays   \n",
      "4                       Performing Arts, Screenplays   \n",
      "\n",
      "                                   UUID  \\\n",
      "0  7ec2cfda-144f-4878-b9e6-fb3018035062   \n",
      "1  b787f8e6-54ee-42c2-a1b1-7c80df247cf3   \n",
      "2  25fde7ad-d9f7-4269-bcd4-13fcda0d6877   \n",
      "3  30c3e33c-6174-4706-b3f1-75c8c7fdf500   \n",
      "4  37a91f99-e8c0-4961-83c6-a013275fd5a6   \n",
      "\n",
      "                                            Comments USD Sale Price  \\\n",
      "0  Go deeper into the groundbreaking, Golden Glob...          14.99   \n",
      "1  The complete, authorised scripts, including de...          21.99   \n",
      "2                                                NaN          21.99   \n",
      "3  The complete, authorised scripts, including de...          21.99   \n",
      "4  The complete, authorised scripts, including de...          21.99   \n",
      "\n",
      "  Page Count  Categories  Width Thickness  Height  Weight  \n",
      "0        432      Script   6.20      1.36    8.77    1.35  \n",
      "1        784      Script  12.99      7.48   13.39     2.3  \n",
      "2        656      Script   6.00      2.00    9.00    2.48  \n",
      "3        768      Script  12.99      7.48   13.39    2.25  \n",
      "4        720      Script  12.99      7.48   13.39    2.11  \n",
      "\n",
      "[5 rows x 22 columns]\n"
     ]
    }
   ],
   "source": [
    "import pandas as pd\n",
    "\n",
    "books = pd.read_csv('2024BookList.csv')\n",
    "print(books.head())"
   ]
  },
  {
   "cell_type": "code",
   "execution_count": null,
   "metadata": {},
   "outputs": [
    {
     "name": "stdout",
     "output_type": "stream",
     "text": [
      "                     Author  Number of Titles Read\n",
      "54             Rick Riordan                     15\n",
      "56            Sarah J. Maas                     10\n",
      "2              Alice Oseman                      6\n",
      "32          Jesse Armstrong                      4\n",
      "34             Katee Robert                      4\n",
      "..                      ...                    ...\n",
      "27                    Homer                      1\n",
      "28  Huw Lemmey & Ben Miller                      1\n",
      "29          James Islington                      1\n",
      "30         Jennette McCurdy                      1\n",
      "64                Zimmerman                      1\n",
      "\n",
      "[65 rows x 2 columns]\n"
     ]
    }
   ],
   "source": [
    "#Finding Authours from the year\n",
    "author_counts = books.groupby('Author')['Title'].count().reset_index()\n",
    "author_counts.columns = ['Author', 'Title Count']\n",
    "\n",
    "top_authors = author_counts.sort_values(by='Number of Titles Read', ascending=False)\n",
    "print(top_authors)\n",
    "\n",
    "# import matplotlib.pyplot as plt\n",
    "\n",
    "# plt.bar(top_authors['Author'], top_authors['Number of Titles Read'])\n",
    "# plt.xlabel('Author')\n",
    "# plt.ylabel('Number of Titles Read')\n",
    "# plt.title('Top 5 Authors by Titles Read')\n",
    "# plt.xticks(rotation=45, ha='right')\n",
    "# plt.show()"
   ]
  },
  {
   "cell_type": "code",
   "execution_count": null,
   "metadata": {},
   "outputs": [
    {
     "name": "stdout",
     "output_type": "stream",
     "text": [
      "The first book read was 'Fleabag: The Scriptures' by Phoebe Waller-Bridge, on 2023-09-07 16:02:31-08:00.\n",
      "The last?? (but def lying) book read was 'Play It as It Lays' by Joan Didion, on 2024-11-12 19:34:55-08:00.\n"
     ]
    }
   ],
   "source": [
    "# First book read in 2024\n",
    "books['Download_Timestamp'] = pd.to_datetime(books['Download_Timestamp'])\n",
    "sorted_books = books.sort_values(by='Download_Timestamp')\n",
    "first_book = sorted_books.iloc[0]\n",
    "last_book = sorted_books.iloc[-1]\n",
    "\n",
    "print(f\"The first book read was '{first_book['Title']}' by {first_book['Author']}, on {first_book['Download_Timestamp']}.\")\n",
    "print(f\"The last?? (but def lying) book read was '{last_book['Title']}' by {last_book['Author']}, on {last_book['Download_Timestamp']}.\")\n"
   ]
  },
  {
   "cell_type": "code",
   "execution_count": 110,
   "metadata": {},
   "outputs": [
    {
     "name": "stdout",
     "output_type": "stream",
     "text": [
      "The number of different series read is: 10\n",
      "                              Series  Number of Books\n",
      "18   Percy Jackson and the Olympians                6\n",
      "0        A Court of Thorns and Roses                5\n",
      "5                       Heartstopper                5\n",
      "4                Dark Olympus Series                4\n",
      "21                        Succession                4\n",
      "23              The Trials of Apollo                4\n",
      "6                  Heroes of Olympus                3\n",
      "20  Stephen Fry's Greek Myths Series                3\n",
      "24                   Throne of Glass                3\n",
      "13                      Monk & Robot                2\n"
     ]
    }
   ],
   "source": [
    "#Series Stats\n",
    "\n",
    "series_counts = books.groupby('Series')['Title'].count().reset_index()\n",
    "series_counts.columns = ['Series', 'Number of Books']\n",
    "\n",
    "# Filter bc series with only 1 book shouldnt count as a series\n",
    "series_with_multiple_books = series_counts[series_counts['Number of Books'] > 1]\n",
    "unique_series_count = series_with_multiple_books['Series'].nunique()\n",
    "\n",
    "print(f\"The number of different series read is: {unique_series_count}\")\n",
    "print(series_with_multiple_books.sort_values(by='Number of Books', ascending=False))\n",
    "\n"
   ]
  },
  {
   "cell_type": "code",
   "execution_count": null,
   "metadata": {},
   "outputs": [
    {
     "name": "stdout",
     "output_type": "stream",
     "text": [
      "The total thickness of all books is: 144.46 inches or 12.0 feet.\n",
      "The total width of all books is: 608.46 inches or 50.7 feet.\n",
      "The total height of all books is: 892.46 inches or 74.4 feet.\n"
     ]
    }
   ],
   "source": [
    "#fucking around with the book dimensions\n",
    "\n",
    "total_thickness_in = (books['Thickness'].sum())\n",
    "total_thickness_ft = total_thickness_in / 12\n",
    "print(f\"The total thickness of all books is: {total_thickness_in:.2f} inches or {total_thickness_ft:.1f} feet.\")\n",
    "\n",
    "total_width_in = (books['Width'].sum())\n",
    "total_width_ft = total_width_in / 12\n",
    "print(f\"The total width of all books is: {total_width_in:.2f} inches or {total_width_ft:.1f} feet.\")\n",
    "\n",
    "total_height_in = (books['Height'].sum())\n",
    "total_height_ft = total_height_in / 12\n",
    "print(f\"The total height of all books is: {total_height_in:.2f} inches or {total_height_ft:.1f} feet.\")\n"
   ]
  },
  {
   "cell_type": "code",
   "execution_count": 115,
   "metadata": {},
   "outputs": [
    {
     "name": "stdout",
     "output_type": "stream",
     "text": [
      "The total page count of all books is: 46804\n",
      "The total length of all pages is:  34040.0 feet or 6.4 miles or 56.3 Space Needles or 1.0 10k marathons\n"
     ]
    }
   ],
   "source": [
    "# Calculate the total height of all books pages lined up\n",
    "total_page_count = books['Page Count'].sum()\n",
    "print(f\"The total page count of all books is: {total_page_count}\")\n",
    "# Calculate the height of the stacked pages (Height x Page Count for each book)\n",
    "books['Total Height'] = books['Height'] * books['Page Count']\n",
    "\n",
    "# Sum up the total height across all books\n",
    "total_height = books['Total Height'].sum()\n",
    "\n",
    "# Display the total height in inches and feet\n",
    "total_height_inches = total_height\n",
    "total_height_ft = total_height_inches / 12\n",
    "total_height_miles = total_height_ft / 5280\n",
    "total_height_space_needles = total_height_ft / 605\n",
    "total_height_10k = total_height_miles / 6.21\n",
    "print(f\"The total length of all pages is:  {total_height_ft:.1f} feet or {total_height_miles:.1f} miles or {total_height_space_needles:.1f} Space Needles or {total_height_10k:.1f} 10k marathons\")\n"
   ]
  },
  {
   "cell_type": "code",
   "execution_count": 116,
   "metadata": {},
   "outputs": [
    {
     "name": "stdout",
     "output_type": "stream",
     "text": [
      "                                                Title  \\\n",
      "58                            Complete Works of Plato   \n",
      "23  Building Java Programs: A Back to Basics Appro...   \n",
      "26                          Operating System Concepts   \n",
      "75                             A Little Life: A Novel   \n",
      "1       Succession - Season Two: The Complete Scripts   \n",
      "81                           A Court of Silver Flames   \n",
      "3       Succession – Season One: The Complete Scripts   \n",
      "98                                      Metamorphoses   \n",
      "32                                 The House of Hades   \n",
      "4     Succession - Season Three: The Complete Scripts   \n",
      "\n",
      "                                       Author  Page Count  \n",
      "58  Plato & John M. Cooper & D. S. Hutchinson        1848  \n",
      "23                 Stuart Reges & Marty Stepp        1232  \n",
      "26     Abraham Silberschatz & Peter B. Galvin        1095  \n",
      "75                           Hanya Yanagihara         832  \n",
      "1                             Jesse Armstrong         784  \n",
      "81                              Sarah J. Maas         768  \n",
      "3                             Jesse Armstrong         768  \n",
      "98                                       Ovid         768  \n",
      "32                               Rick Riordan         720  \n",
      "4                             Jesse Armstrong         720  \n"
     ]
    }
   ],
   "source": [
    "# Thickest books by page count\n",
    "top_page_count = books.sort_values(by='Page Count', ascending=False).head(10)\n",
    "\n",
    "# Display the top 10 books with the highest page count\n",
    "print(top_page_count[['Title', 'Author', 'Page Count']])"
   ]
  },
  {
   "cell_type": "code",
   "execution_count": 117,
   "metadata": {},
   "outputs": [
    {
     "name": "stdout",
     "output_type": "stream",
     "text": [
      "Filtered Genre Breakdown Table (Excluding 'Fiction' and >= 3 Occurrences):\n"
     ]
    },
    {
     "data": {
      "text/html": [
       "<div>\n",
       "<style scoped>\n",
       "    .dataframe tbody tr th:only-of-type {\n",
       "        vertical-align: middle;\n",
       "    }\n",
       "\n",
       "    .dataframe tbody tr th {\n",
       "        vertical-align: top;\n",
       "    }\n",
       "\n",
       "    .dataframe thead th {\n",
       "        text-align: right;\n",
       "    }\n",
       "</style>\n",
       "<table border=\"1\" class=\"dataframe\">\n",
       "  <thead>\n",
       "    <tr style=\"text-align: right;\">\n",
       "      <th></th>\n",
       "      <th>Genre</th>\n",
       "      <th>Count</th>\n",
       "    </tr>\n",
       "  </thead>\n",
       "  <tbody>\n",
       "    <tr>\n",
       "      <th>5</th>\n",
       "      <td>Greek Mythology</td>\n",
       "      <td>37</td>\n",
       "    </tr>\n",
       "    <tr>\n",
       "      <th>1</th>\n",
       "      <td>Smut</td>\n",
       "      <td>15</td>\n",
       "    </tr>\n",
       "    <tr>\n",
       "      <th>2</th>\n",
       "      <td>Fantasy</td>\n",
       "      <td>13</td>\n",
       "    </tr>\n",
       "    <tr>\n",
       "      <th>7</th>\n",
       "      <td>Queer</td>\n",
       "      <td>12</td>\n",
       "    </tr>\n",
       "    <tr>\n",
       "      <th>8</th>\n",
       "      <td>Classics</td>\n",
       "      <td>8</td>\n",
       "    </tr>\n",
       "    <tr>\n",
       "      <th>4</th>\n",
       "      <td>Memoir</td>\n",
       "      <td>6</td>\n",
       "    </tr>\n",
       "    <tr>\n",
       "      <th>0</th>\n",
       "      <td>Script</td>\n",
       "      <td>5</td>\n",
       "    </tr>\n",
       "    <tr>\n",
       "      <th>3</th>\n",
       "      <td>Autobiography</td>\n",
       "      <td>4</td>\n",
       "    </tr>\n",
       "    <tr>\n",
       "      <th>6</th>\n",
       "      <td>Graphic Novel</td>\n",
       "      <td>4</td>\n",
       "    </tr>\n",
       "    <tr>\n",
       "      <th>9</th>\n",
       "      <td>Technology</td>\n",
       "      <td>4</td>\n",
       "    </tr>\n",
       "    <tr>\n",
       "      <th>10</th>\n",
       "      <td>Textbook</td>\n",
       "      <td>4</td>\n",
       "    </tr>\n",
       "    <tr>\n",
       "      <th>12</th>\n",
       "      <td>Short Story</td>\n",
       "      <td>4</td>\n",
       "    </tr>\n",
       "    <tr>\n",
       "      <th>11</th>\n",
       "      <td>Sci-Fi</td>\n",
       "      <td>3</td>\n",
       "    </tr>\n",
       "  </tbody>\n",
       "</table>\n",
       "</div>"
      ],
      "text/plain": [
       "              Genre  Count\n",
       "5   Greek Mythology     37\n",
       "1              Smut     15\n",
       "2           Fantasy     13\n",
       "7             Queer     12\n",
       "8          Classics      8\n",
       "4            Memoir      6\n",
       "0            Script      5\n",
       "3     Autobiography      4\n",
       "6     Graphic Novel      4\n",
       "9        Technology      4\n",
       "10         Textbook      4\n",
       "12      Short Story      4\n",
       "11           Sci-Fi      3"
      ]
     },
     "metadata": {},
     "output_type": "display_data"
    }
   ],
   "source": [
    "#Genre Count\n",
    "from collections import Counter\n",
    "import matplotlib.pyplot as plt\n",
    "\n",
    "all_genres = books['Categories'].dropna().str.split(',').sum()\n",
    "genre_counts = Counter([genre.strip() for genre in all_genres])\n",
    "genre_counts_df = pd.DataFrame(genre_counts.items(), columns=['Genre', 'Count']).sort_values(by='Count', ascending=False)\n",
    "# print(genre_counts_df)\n",
    "\n",
    "# plt.figure(figsize=(12, 8))\n",
    "# plt.bar(genre_counts_df['Genre'], genre_counts_df['Count'])\n",
    "# plt.title('Count of Books by Genre')\n",
    "# plt.xlabel('Genre')\n",
    "# plt.ylabel('Count')\n",
    "# plt.xticks(rotation=45, ha='right')\n",
    "# plt.tight_layout()\n",
    "# plt.show()\n",
    "\n",
    "#Pie Chart\n",
    "\n",
    "# Exclude 'Fiction' and 'YA' and filter genres with more than 3 occurrences bc it was wonky\n",
    "filtered_genre_counts = {genre: count for genre, count in genre_counts.items() if genre not in ['Fiction', 'YA'] and count >= 3}\n",
    "filtered_genre_table = pd.DataFrame(list(filtered_genre_counts.items()), columns=['Genre', 'Count']).sort_values(by='Count', ascending=False)\n",
    "\n",
    "# Display the table\n",
    "print(\"Filtered Genre Breakdown Table (Excluding 'Fiction' and >= 3 Occurrences):\")\n",
    "display(filtered_genre_table)\n",
    "\n",
    "# Prepare data for the pie chart\n",
    "# labels = list(filtered_genre_counts.keys())\n",
    "# sizes = list(filtered_genre_counts.values())\n",
    "\n",
    "# # Plot the pie chart\n",
    "# plt.figure(figsize=(10, 8))\n",
    "# plt.pie(sizes, labels=labels, autopct='%1.0f%%', startangle=140)\n",
    "# plt.title(\"Filtered Genre Breakdown (Excluding 'Fiction')\")\n",
    "# plt.axis('equal')  # Equal aspect ratio ensures the pie is circular.\n",
    "# plt.show()"
   ]
  },
  {
   "cell_type": "code",
   "execution_count": null,
   "metadata": {},
   "outputs": [],
   "source": []
  },
  {
   "cell_type": "code",
   "execution_count": 118,
   "metadata": {},
   "outputs": [
    {
     "name": "stdout",
     "output_type": "stream",
     "text": [
      "The total amount spent on all books is: $1503.94\n",
      "The average amount spent on each book is: $14.32\n",
      "but you pirated most of them so you didn't actually spend that much\n"
     ]
    }
   ],
   "source": [
    "#Total Money Spent\n",
    "# Calculate the total amount spent on all books\n",
    "total_spent = books['USD Sale Price'].sum()\n",
    "print(f\"The total amount spent on all books is: ${total_spent:.2f}\")\n",
    "print(f\"The average amount spent on each book is: ${total_spent / len(books):.2f}\")\n",
    "print(\"but you pirated most of them so you didn't actually spend that much\")\n"
   ]
  },
  {
   "cell_type": "code",
   "execution_count": null,
   "metadata": {},
   "outputs": [],
   "source": []
  }
 ],
 "metadata": {
  "kernelspec": {
   "display_name": "Python 3",
   "language": "python",
   "name": "python3"
  },
  "language_info": {
   "codemirror_mode": {
    "name": "ipython",
    "version": 3
   },
   "file_extension": ".py",
   "mimetype": "text/x-python",
   "name": "python",
   "nbconvert_exporter": "python",
   "pygments_lexer": "ipython3",
   "version": "3.9.6"
  }
 },
 "nbformat": 4,
 "nbformat_minor": 2
}
